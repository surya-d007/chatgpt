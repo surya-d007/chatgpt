{
  "nbformat": 4,
  "nbformat_minor": 0,
  "metadata": {
    "colab": {
      "provenance": []
    },
    "kernelspec": {
      "name": "python3",
      "display_name": "Python 3"
    },
    "language_info": {
      "name": "python"
    }
  },
  "cells": [
    {
      "cell_type": "code",
      "execution_count": 2,
      "metadata": {
        "colab": {
          "base_uri": "https://localhost:8080/",
          "height": 138
        },
        "id": "W1IGn3ZRjaxn",
        "outputId": "80ea1a73-0582-4654-9821-6038f2b5e379"
      },
      "outputs": [
        {
          "output_type": "stream",
          "name": "stdout",
          "text": [
            "models/gemini-1.0-pro\n",
            "models/gemini-1.0-pro-001\n",
            "models/gemini-1.0-pro-latest\n",
            "models/gemini-1.0-pro-vision-latest\n",
            "models/gemini-1.5-pro-latest\n",
            "models/gemini-pro\n",
            "models/gemini-pro-vision\n"
          ]
        }
      ],
      "source": [
        "!pip install -q -U google-generativeai\n",
        "import pathlib\n",
        "import textwrap\n",
        "\n",
        "import google.generativeai as genai\n",
        "\n",
        "from IPython.display import display\n",
        "from IPython.display import Markdown\n",
        "\n",
        "\n",
        "def to_markdown(text):\n",
        "  text = text.replace('•', '  *')\n",
        "  return Markdown(textwrap.indent(text, '> ', predicate=lambda _: True))\n",
        "\n",
        "# Used to securely store your API key\n",
        "from google.colab import userdata\n",
        "\n",
        "# Or use `os.getenv('GOOGLE_API_KEY')` to fetch an environment variable.\n",
        "GOOGLE_API_KEY=key\n",
        "\n",
        "\n",
        "\n",
        "\n",
        "genai.configure(api_key=GOOGLE_API_KEY)\n",
        "\n",
        "for m in genai.list_models():\n",
        "  if 'generateContent' in m.supported_generation_methods:\n",
        "    print(m.name)\n",
        "\n",
        "model = genai.GenerativeModel('gemini-pro')\n",
        "\n",
        "\n",
        "\n"
      ]
    },
    {
      "cell_type": "code",
      "source": [
        "\n",
        "response = model.generate_content(\"give me python code for desision tree classifer for my data set and to visualise it \")\n",
        "to_markdown(response.text)"
      ],
      "metadata": {
        "colab": {
          "base_uri": "https://localhost:8080/",
          "height": 652
        },
        "id": "58oDYZcYjmTE",
        "outputId": "ea31e536-5c01-49a0-dca1-1c2421fb5f6d"
      },
      "execution_count": 3,
      "outputs": [
        {
          "output_type": "execute_result",
          "data": {
            "text/plain": [
              "<IPython.core.display.Markdown object>"
            ],
            "text/markdown": "> ```python\n> # Import necessary libraries\n> import pandas as pd\n> from sklearn.tree import DecisionTreeClassifier\n> from sklearn.model_selection import train_test_split\n> from sklearn.metrics import accuracy_score\n> from sklearn.tree import plot_tree\n> import matplotlib.pyplot as plt\n> \n> # Load the dataset\n> data = pd.read_csv(\"dataset.csv\")\n> \n> # Split the data into features and target\n> features = data.drop(\"target\", axis=1)\n> target = data[\"target\"]\n> \n> # Split the data into training and testing sets\n> X_train, X_test, y_train, y_test = train_test_split(features, target, test_size=0.2, random_state=0)\n> \n> # Create a decision tree classifier\n> classifier = DecisionTreeClassifier()\n> \n> # Train the classifier\n> classifier.fit(X_train, y_train)\n> \n> # Predict the labels for the test data\n> y_pred = classifier.predict(X_test)\n> \n> # Evaluate the classifier\n> accuracy = accuracy_score(y_test, y_pred)\n> print(\"Accuracy:\", accuracy)\n> \n> # Visualize the decision tree\n> plt.figure(figsize=(15, 10))\n> plot_tree(classifier, filled=True, rounded=True, feature_names=list(features), class_names=[\"0\", \"1\"])\n> plt.show()\n> ```"
          },
          "metadata": {},
          "execution_count": 3
        }
      ]
    },
    {
      "cell_type": "code",
      "source": [],
      "metadata": {
        "id": "pK4K4XZskLC2"
      },
      "execution_count": null,
      "outputs": []
    }
  ]
}