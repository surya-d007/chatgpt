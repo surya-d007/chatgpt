{
  "nbformat": 4,
  "nbformat_minor": 0,
  "metadata": {
    "colab": {
      "provenance": []
    },
    "kernelspec": {
      "name": "python3",
      "display_name": "Python 3"
    },
    "language_info": {
      "name": "python"
    }
  },
  "cells": [
    {
      "cell_type": "markdown",
      "source": [
        "# Question 1 ) Knn with multiplevalues"
      ],
      "metadata": {
        "id": "PlAVC9QpuhlW"
      }
    },
    {
      "cell_type": "code",
      "execution_count": 1,
      "metadata": {
        "colab": {
          "base_uri": "https://localhost:8080/"
        },
        "id": "b59kRu9uuWyS",
        "outputId": "eafb75ee-5330-4d8d-f594-fe59289e528c"
      },
      "outputs": [
        {
          "output_type": "stream",
          "name": "stdout",
          "text": [
            "Accuracy for K=1: 0.904\n",
            "Accuracy for K=2: 0.896\n",
            "Accuracy for K=3: 0.92\n",
            "Accuracy for K=5: 0.936\n",
            "Accuracy for K=7: 0.936\n",
            "Accuracy for K=9: 0.92\n",
            "Accuracy for K=10: 0.936\n",
            "Accuracy for K=12: 0.928\n",
            "Accuracy for K=15: 0.92\n",
            "Accuracy for K=18: 0.928\n"
          ]
        }
      ],
      "source": [
        "import io\n",
        "import pandas as pd\n",
        "from sklearn.model_selection import train_test_split\n",
        "from sklearn.preprocessing import MinMaxScaler\n",
        "from sklearn.neighbors import KNeighborsClassifier\n",
        "from sklearn.metrics import accuracy_score\n",
        "\n",
        "df = pd.read_csv('//content//Graduate.csv')\n",
        "\n",
        "\n",
        "X = df.iloc[:, 1:7].values\n",
        "y = df['Admit'].values\n",
        "\n",
        "X_train, X_test, y_train, y_test = train_test_split(X, y, test_size=0.25, random_state=42)\n",
        "\n",
        "\n",
        "scaler = MinMaxScaler()\n",
        "X_train = scaler.fit_transform(X_train)\n",
        "X_test = scaler.transform(X_test)\n",
        "\n",
        "\n",
        "k_values = [1 , 2 ,3, 5, 7 , 9, 10 , 12 , 15 , 18]\n",
        "\n",
        "for k in k_values:\n",
        "\n",
        "    knn = KNeighborsClassifier(n_neighbors=k)\n",
        "    knn.fit(X_train, y_train)\n",
        "\n",
        "    y_pred = knn.predict(X_test)\n",
        "\n",
        "    accuracy = accuracy_score(y_test, y_pred)\n",
        "    print(f'Accuracy for K={k}: {accuracy}')"
      ]
    },
    {
      "cell_type": "markdown",
      "source": [
        "# visualizing the imbalance in Admit"
      ],
      "metadata": {
        "id": "x0OK1HAvunCW"
      }
    },
    {
      "cell_type": "code",
      "source": [
        "import pandas as pd\n",
        "import matplotlib.pyplot as plt\n",
        "\n",
        "data = pd.read_csv('//content//Graduate.csv')\n",
        "\n",
        "\n",
        "admit_counts = data['Admit'].value_counts()\n",
        "\n",
        "plt.bar(admit_counts.index, admit_counts.values, color=['blue', 'orange'])\n",
        "plt.xticks(admit_counts.index, ['Admitted', 'Not Admitted'])\n",
        "plt.xlabel('Admission Status')\n",
        "plt.ylabel('Number of Applicants')\n",
        "plt.title('Imbalance in Admission Status')\n",
        "plt.show()"
      ],
      "metadata": {
        "colab": {
          "base_uri": "https://localhost:8080/",
          "height": 472
        },
        "id": "onZgmpz9uakN",
        "outputId": "6b880602-4adb-45bf-bfef-2186cfc3d432"
      },
      "execution_count": 2,
      "outputs": [
        {
          "output_type": "display_data",
          "data": {
            "text/plain": [
              "<Figure size 640x480 with 1 Axes>"
            ],
            "image/png": "[encoded data removed]"
          },
          "metadata": {}
        }
      ]
    },
    {
      "cell_type": "markdown",
      "source": [
        "# Creating the dummy values and vualizing the samples"
      ],
      "metadata": {
        "id": "xRxrrFbrut7-"
      }
    },
    {
      "cell_type": "code",
      "source": [
        "from imblearn.over_sampling import RandomOverSampler\n",
        "\n",
        "X = data.drop('Admit', axis=1)\n",
        "y = data['Admit']\n",
        "\n",
        "ros = RandomOverSampler(random_state=0)\n",
        "X_resampled, y_resampled = ros.fit_resample(X, y)\n",
        "\n",
        "resampled_data = pd.concat([X_resampled, y_resampled], axis=1)\n",
        "\n",
        "resampled_data.to_csv('resampled_data.csv', index=False)"
      ],
      "metadata": {
        "id": "i-Rzb9u5udIV"
      },
      "execution_count": 3,
      "outputs": []
    },
    {
      "cell_type": "code",
      "source": [
        "import pandas as pd\n",
        "import matplotlib.pyplot as plt\n",
        "\n",
        "data = pd.read_csv('//content//resampled_data.csv')\n",
        "\n",
        "admit_counts = data['Admit'].value_counts()\n",
        "\n",
        "plt.bar(admit_counts.index, admit_counts.values, color=['blue', 'orange'])\n",
        "plt.xticks(admit_counts.index, ['Admitted', 'Not Admitted'])\n",
        "plt.xlabel('Admission Status')\n",
        "plt.ylabel('Number of Applicants')\n",
        "plt.title('Imbalance in Admission Status')\n",
        "plt.show()"
      ],
      "metadata": {
        "colab": {
          "base_uri": "https://localhost:8080/",
          "height": 472
        },
        "id": "oURO45VIufit",
        "outputId": "84e10d24-3ef9-4356-d6d9-fabca609dfd2"
      },
      "execution_count": 4,
      "outputs": [
        {
          "output_type": "display_data",
          "data": {
            "text/plain": [
              "<Figure size 640x480 with 1 Axes>"
            ],
            "image/png": "[encoded data removed]"
          },
          "metadata": {}
        }
      ]
    },
    {
      "cell_type": "markdown",
      "source": [
        "# knn after creating dummy samples to SMORT the algorithm"
      ],
      "metadata": {
        "id": "6RxBKFnbvNG3"
      }
    },
    {
      "cell_type": "code",
      "source": [
        "import io\n",
        "import pandas as pd\n",
        "from sklearn.model_selection import train_test_split\n",
        "from sklearn.preprocessing import MinMaxScaler\n",
        "from sklearn.neighbors import KNeighborsClassifier\n",
        "from sklearn.metrics import accuracy_score\n",
        "\n",
        "df = pd.read_csv('//content//resampled_data.csv')\n",
        "\n",
        "\n",
        "X = df.iloc[:, 1:7].values\n",
        "y = df['Admit'].values\n",
        "\n",
        "X_train, X_test, y_train, y_test = train_test_split(X, y, test_size=0.25, random_state=42)\n",
        "\n",
        "\n",
        "scaler = MinMaxScaler()\n",
        "X_train = scaler.fit_transform(X_train)\n",
        "X_test = scaler.transform(X_test)\n",
        "\n",
        "\n",
        "k_values = [1 , 2 ,3, 5, 7 , 9, 10 , 12 , 15 , 18 ]\n",
        "\n",
        "for k in k_values:\n",
        "\n",
        "    knn = KNeighborsClassifier(n_neighbors=k)\n",
        "    knn.fit(X_train, y_train)\n",
        "\n",
        "    y_pred = knn.predict(X_test)\n",
        "\n",
        "    accuracy = accuracy_score(y_test, y_pred)\n",
        "    print(f'Accuracy for K={k}: {accuracy}')"
      ],
      "metadata": {
        "colab": {
          "base_uri": "https://localhost:8080/"
        },
        "id": "K8f2yZaqu6e9",
        "outputId": "1aff82f7-9300-4efc-a929-ddb102dc1293"
      },
      "execution_count": 8,
      "outputs": [
        {
          "output_type": "stream",
          "name": "stdout",
          "text": [
            "Accuracy for K=1: 0.978448275862069\n",
            "Accuracy for K=2: 0.9568965517241379\n",
            "Accuracy for K=3: 0.9568965517241379\n",
            "Accuracy for K=5: 0.9396551724137931\n",
            "Accuracy for K=7: 0.9137931034482759\n",
            "Accuracy for K=9: 0.896551724137931\n",
            "Accuracy for K=10: 0.8793103448275862\n",
            "Accuracy for K=12: 0.8706896551724138\n",
            "Accuracy for K=15: 0.8620689655172413\n",
            "Accuracy for K=18: 0.8405172413793104\n"
          ]
        }
      ]
    },
    {
      "cell_type": "markdown",
      "source": [
        "# Question 2 )   data2.xlsx  with x1,x2,x3 and Multiple linear regression & Simple Linear Regression"
      ],
      "metadata": {
        "id": "p1ARhmTVxyw3"
      }
    },
    {
      "cell_type": "code",
      "source": [
        "import pandas as pd\n",
        "from sklearn.model_selection import train_test_split\n",
        "from sklearn.linear_model import LinearRegression\n",
        "from sklearn.metrics import r2_score\n",
        "\n",
        "data = pd.read_excel('//content//data2.xlsx')\n",
        "\n",
        "data['mean'] = data.iloc[:, [0, 1]].mean(axis=1)\n",
        "data.iloc[:, 2] = data['mean']\n",
        "\n",
        "X = data.iloc[:, [1, 2]].values\n",
        "y = data.iloc[:, 0].values\n",
        "X_train, X_test, y_train, y_test = train_test_split(X, y, test_size=0.2, random_state=42)\n",
        "\n",
        "multi_reg = LinearRegression()\n",
        "multi_reg.fit(X_train, y_train)\n",
        "\n",
        "simple_reg = LinearRegression()\n",
        "simple_reg.fit(X_train[:, 1].reshape(-1, 1), y_train)\n",
        "\n",
        "multi_reg_score = multi_reg.score(X_test, y_test)\n",
        "simple_reg_score = simple_reg.score(X_test[:, 1].reshape(-1, 1), y_test)\n",
        "\n",
        "print(\"Multiple Linear Regression Accuracy: \", multi_reg_score)\n",
        "print(\"Simple Linear Regression Accuracy: \", simple_reg_score)"
      ],
      "metadata": {
        "colab": {
          "base_uri": "https://localhost:8080/"
        },
        "id": "WVaq7vMovI4W",
        "outputId": "049ec224-085b-4804-f910-77eccd59427d"
      },
      "execution_count": 6,
      "outputs": [
        {
          "output_type": "stream",
          "name": "stdout",
          "text": [
            "Multiple Linear Regression Accuracy:  1.0\n",
            "Simple Linear Regression Accuracy:  0.08413038536170203\n"
          ]
        }
      ]
    },
    {
      "cell_type": "markdown",
      "source": [
        "### Multiple Linear Regression is better in terms of Accuracy"
      ],
      "metadata": {
        "id": "hansCOMWyMjQ"
      }
    }
  ]
}